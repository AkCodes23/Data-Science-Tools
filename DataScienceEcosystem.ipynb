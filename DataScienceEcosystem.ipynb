{
 "cells": [
  {
   "cell_type": "markdown",
   "id": "c77ce160-ad0c-4c57-85c5-5869a55c1f48",
   "metadata": {},
   "source": [
    "Data Science Tools and Ecosystem"
   ]
  },
  {
   "attachments": {},
   "cell_type": "markdown",
   "id": "90d8e7f0-6873-4e30-b72b-84c9725bdb80",
   "metadata": {},
   "source": [
    "In this notebook, Data Science Tools and Ecosystem are summarized.\n",
    "\n",
    "Some of the popular languages that Data Scientists use are:\n",
    "1)Python\n",
    "2)R\n",
    "3)SQL\n",
    "4)Julia\n",
    "\n",
    "Some of the commonly used libraries used by Data Scientists include:\n",
    "1)NumPy\r",
    "2)\n",
    "pandas3)\r\n",
    "scikit-learn"
   ]
  },
  {
   "cell_type": "markdown",
   "id": "edef66f0-045e-4ffb-adc4-f426a4fc52bd",
   "metadata": {},
   "source": [
    "Data Science Tools"
   ]
  },
  {
   "cell_type": "markdown",
   "id": "31740b6b-f24f-4efd-9778-15e67fae2dc0",
   "metadata": {},
   "source": [
    "Below are a few examples of evaluating arithmetic expressions in Python"
   ]
  },
  {
   "cell_type": "code",
   "execution_count": 2,
   "id": "3466b04c-5066-405b-a4f4-ab3202ff8e7a",
   "metadata": {},
   "outputs": [
    {
     "data": {
      "text/plain": [
       "17"
      ]
     },
     "execution_count": 2,
     "metadata": {},
     "output_type": "execute_result"
    }
   ],
   "source": [
    "#This a simple arithmetic expression to multiply then add integers\n",
    "(3*4)+5"
   ]
  },
  {
   "cell_type": "code",
   "execution_count": 3,
   "id": "94410830-96ba-42a1-8d99-f65a3b743bcf",
   "metadata": {},
   "outputs": [
    {
     "name": "stdout",
     "output_type": "stream",
     "text": [
      "3.3333333333333335\n"
     ]
    }
   ],
   "source": [
    "#This will convert 200 minutes to hours by diving by 60\n",
    "minutes=200\n",
    "hours=minutes/60\n",
    "print(hours)"
   ]
  },
  {
   "cell_type": "markdown",
   "id": "ea967317-ef2c-40a6-aca9-ea56c2fc905e",
   "metadata": {},
   "source": [
    "Objectives:\n",
    "- List popular languages for Data Science\r\n",
    "  - Python\r\n",
    "  - R\r\n",
    "  - SQL\r\n",
    "  - Ju Java\r\n"
   ]
  },
  {
   "cell_type": "markdown",
   "id": "9ca838e3-98ab-4d89-bc2a-f72c946b75c0",
   "metadata": {},
   "source": [
    "Author:\n",
    "Akhil"
   ]
  }
 ],
 "metadata": {
  "kernelspec": {
   "display_name": "Python 3 (ipykernel)",
   "language": "python",
   "name": "python3"
  },
  "language_info": {
   "codemirror_mode": {
    "name": "ipython",
    "version": 3
   },
   "file_extension": ".py",
   "mimetype": "text/x-python",
   "name": "python",
   "nbconvert_exporter": "python",
   "pygments_lexer": "ipython3",
   "version": "3.12.0"
  }
 },
 "nbformat": 4,
 "nbformat_minor": 5
}
